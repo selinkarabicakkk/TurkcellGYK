{
 "cells": [
  {
   "cell_type": "code",
   "execution_count": 1,
   "id": "78b2a267-1528-4d56-8a65-20f31c16bcea",
   "metadata": {},
   "outputs": [],
   "source": [
    "import pandas as pd"
   ]
  },
  {
   "cell_type": "code",
   "execution_count": 3,
   "id": "8dcb3c1f-9399-4611-a65f-1ef1ce0831ea",
   "metadata": {},
   "outputs": [],
   "source": [
    "dataset = \"data.csv\"  \n",
    "df = pd.read_csv(dataset)"
   ]
  },
  {
   "cell_type": "code",
   "execution_count": 16,
   "id": "0c65b0e4-c7bc-4edf-86b5-569cb784cbfd",
   "metadata": {},
   "outputs": [
    {
     "name": "stdout",
     "output_type": "stream",
     "text": [
      "İlk 5 satır\n"
     ]
    },
    {
     "data": {
      "text/html": [
       "<div>\n",
       "<style scoped>\n",
       "    .dataframe tbody tr th:only-of-type {\n",
       "        vertical-align: middle;\n",
       "    }\n",
       "\n",
       "    .dataframe tbody tr th {\n",
       "        vertical-align: top;\n",
       "    }\n",
       "\n",
       "    .dataframe thead th {\n",
       "        text-align: right;\n",
       "    }\n",
       "</style>\n",
       "<table border=\"1\" class=\"dataframe\">\n",
       "  <thead>\n",
       "    <tr style=\"text-align: right;\">\n",
       "      <th></th>\n",
       "      <th>TransactionID</th>\n",
       "      <th>Date</th>\n",
       "      <th>Product</th>\n",
       "      <th>Category</th>\n",
       "      <th>Price</th>\n",
       "      <th>Quantity</th>\n",
       "      <th>TotalPrice</th>\n",
       "      <th>Customer</th>\n",
       "      <th>Region</th>\n",
       "    </tr>\n",
       "  </thead>\n",
       "  <tbody>\n",
       "    <tr>\n",
       "      <th>0</th>\n",
       "      <td>1001</td>\n",
       "      <td>2024-02-10</td>\n",
       "      <td>Laptop</td>\n",
       "      <td>Electronics</td>\n",
       "      <td>1200</td>\n",
       "      <td>1</td>\n",
       "      <td>NaN</td>\n",
       "      <td>Alice</td>\n",
       "      <td>North</td>\n",
       "    </tr>\n",
       "    <tr>\n",
       "      <th>1</th>\n",
       "      <td>1002</td>\n",
       "      <td>2024-02-11</td>\n",
       "      <td>Smartphone</td>\n",
       "      <td>Electronics</td>\n",
       "      <td>800</td>\n",
       "      <td>2</td>\n",
       "      <td>NaN</td>\n",
       "      <td>Bob</td>\n",
       "      <td>South</td>\n",
       "    </tr>\n",
       "    <tr>\n",
       "      <th>2</th>\n",
       "      <td>1003</td>\n",
       "      <td>2024-02-12</td>\n",
       "      <td>Tablet</td>\n",
       "      <td>Electronics</td>\n",
       "      <td>500</td>\n",
       "      <td>1</td>\n",
       "      <td>NaN</td>\n",
       "      <td>Charlie</td>\n",
       "      <td>West</td>\n",
       "    </tr>\n",
       "    <tr>\n",
       "      <th>3</th>\n",
       "      <td>1004</td>\n",
       "      <td>2024-02-13</td>\n",
       "      <td>Headphones</td>\n",
       "      <td>Accessories</td>\n",
       "      <td>100</td>\n",
       "      <td>3</td>\n",
       "      <td>NaN</td>\n",
       "      <td>Dave</td>\n",
       "      <td>East</td>\n",
       "    </tr>\n",
       "    <tr>\n",
       "      <th>4</th>\n",
       "      <td>1005</td>\n",
       "      <td>NaN</td>\n",
       "      <td>Monitor</td>\n",
       "      <td>Electronics</td>\n",
       "      <td>300</td>\n",
       "      <td>2</td>\n",
       "      <td>NaN</td>\n",
       "      <td>Eve</td>\n",
       "      <td>North</td>\n",
       "    </tr>\n",
       "  </tbody>\n",
       "</table>\n",
       "</div>"
      ],
      "text/plain": [
       "   TransactionID        Date     Product     Category  Price  Quantity  \\\n",
       "0           1001  2024-02-10      Laptop  Electronics   1200         1   \n",
       "1           1002  2024-02-11  Smartphone  Electronics    800         2   \n",
       "2           1003  2024-02-12      Tablet  Electronics    500         1   \n",
       "3           1004  2024-02-13  Headphones  Accessories    100         3   \n",
       "4           1005         NaN     Monitor  Electronics    300         2   \n",
       "\n",
       "   TotalPrice Customer Region  \n",
       "0         NaN    Alice  North  \n",
       "1         NaN      Bob  South  \n",
       "2         NaN  Charlie   West  \n",
       "3         NaN     Dave   East  \n",
       "4         NaN      Eve  North  "
      ]
     },
     "execution_count": 16,
     "metadata": {},
     "output_type": "execute_result"
    }
   ],
   "source": [
    "print(\"İlk 5 satır\")\n",
    "df.head(5)"
   ]
  },
  {
   "cell_type": "code",
   "execution_count": 17,
   "id": "fa5cde05-2e82-49b9-b6a1-47f59f1fd1e6",
   "metadata": {},
   "outputs": [
    {
     "name": "stdout",
     "output_type": "stream",
     "text": [
      "Son 5 satır\n"
     ]
    },
    {
     "data": {
      "text/html": [
       "<div>\n",
       "<style scoped>\n",
       "    .dataframe tbody tr th:only-of-type {\n",
       "        vertical-align: middle;\n",
       "    }\n",
       "\n",
       "    .dataframe tbody tr th {\n",
       "        vertical-align: top;\n",
       "    }\n",
       "\n",
       "    .dataframe thead th {\n",
       "        text-align: right;\n",
       "    }\n",
       "</style>\n",
       "<table border=\"1\" class=\"dataframe\">\n",
       "  <thead>\n",
       "    <tr style=\"text-align: right;\">\n",
       "      <th></th>\n",
       "      <th>TransactionID</th>\n",
       "      <th>Date</th>\n",
       "      <th>Product</th>\n",
       "      <th>Category</th>\n",
       "      <th>Price</th>\n",
       "      <th>Quantity</th>\n",
       "      <th>TotalPrice</th>\n",
       "      <th>Customer</th>\n",
       "      <th>Region</th>\n",
       "    </tr>\n",
       "  </thead>\n",
       "  <tbody>\n",
       "    <tr>\n",
       "      <th>15</th>\n",
       "      <td>1016</td>\n",
       "      <td>NaN</td>\n",
       "      <td>Webcam</td>\n",
       "      <td>Accessories</td>\n",
       "      <td>140</td>\n",
       "      <td>2</td>\n",
       "      <td>NaN</td>\n",
       "      <td>Paul</td>\n",
       "      <td>East</td>\n",
       "    </tr>\n",
       "    <tr>\n",
       "      <th>16</th>\n",
       "      <td>1017</td>\n",
       "      <td>2024-02-26</td>\n",
       "      <td>Laptop</td>\n",
       "      <td>Electronics</td>\n",
       "      <td>1250</td>\n",
       "      <td>1</td>\n",
       "      <td>NaN</td>\n",
       "      <td>Quinn</td>\n",
       "      <td>North</td>\n",
       "    </tr>\n",
       "    <tr>\n",
       "      <th>17</th>\n",
       "      <td>1018</td>\n",
       "      <td>2024-02-27</td>\n",
       "      <td>Smartphone</td>\n",
       "      <td>Electronics</td>\n",
       "      <td>820</td>\n",
       "      <td>2</td>\n",
       "      <td>NaN</td>\n",
       "      <td>NaN</td>\n",
       "      <td>South</td>\n",
       "    </tr>\n",
       "    <tr>\n",
       "      <th>18</th>\n",
       "      <td>1019</td>\n",
       "      <td>NaN</td>\n",
       "      <td>Tablet</td>\n",
       "      <td>Electronics</td>\n",
       "      <td>510</td>\n",
       "      <td>1</td>\n",
       "      <td>NaN</td>\n",
       "      <td>Steve</td>\n",
       "      <td>West</td>\n",
       "    </tr>\n",
       "    <tr>\n",
       "      <th>19</th>\n",
       "      <td>1020</td>\n",
       "      <td>2024-02-29</td>\n",
       "      <td>Headphones</td>\n",
       "      <td>Accessories</td>\n",
       "      <td>110</td>\n",
       "      <td>3</td>\n",
       "      <td>NaN</td>\n",
       "      <td>Tom</td>\n",
       "      <td>East</td>\n",
       "    </tr>\n",
       "  </tbody>\n",
       "</table>\n",
       "</div>"
      ],
      "text/plain": [
       "    TransactionID        Date     Product     Category  Price  Quantity  \\\n",
       "15           1016         NaN      Webcam  Accessories    140         2   \n",
       "16           1017  2024-02-26      Laptop  Electronics   1250         1   \n",
       "17           1018  2024-02-27  Smartphone  Electronics    820         2   \n",
       "18           1019         NaN      Tablet  Electronics    510         1   \n",
       "19           1020  2024-02-29  Headphones  Accessories    110         3   \n",
       "\n",
       "    TotalPrice Customer Region  \n",
       "15         NaN     Paul   East  \n",
       "16         NaN    Quinn  North  \n",
       "17         NaN      NaN  South  \n",
       "18         NaN    Steve   West  \n",
       "19         NaN      Tom   East  "
      ]
     },
     "execution_count": 17,
     "metadata": {},
     "output_type": "execute_result"
    }
   ],
   "source": [
    "print(\"Son 5 satır\")\n",
    "df.tail(5)"
   ]
  },
  {
   "cell_type": "code",
   "execution_count": 19,
   "id": "b8b7873a-6f13-4f71-928a-fb0bea02a424",
   "metadata": {},
   "outputs": [
    {
     "name": "stdout",
     "output_type": "stream",
     "text": [
      "Veri Setinin Boyutu (Satır, Sütun): (20, 9)\n"
     ]
    }
   ],
   "source": [
    "print(\"Veri Setinin Boyutu (Satır, Sütun):\", df.shape)"
   ]
  },
  {
   "cell_type": "code",
   "execution_count": 26,
   "id": "40fc22d9-695c-49f7-a525-2e9339fc769c",
   "metadata": {},
   "outputs": [
    {
     "name": "stdout",
     "output_type": "stream",
     "text": [
      "Eksik Veriler (Her sütundaki boş değer sayısı):\n",
      "TransactionID     0\n",
      "Date              4\n",
      "Product           0\n",
      "Category          0\n",
      "Price             0\n",
      "Quantity          0\n",
      "TotalPrice       20\n",
      "Customer          3\n",
      "Region            0\n",
      "dtype: int64\n"
     ]
    }
   ],
   "source": [
    "print(\"Eksik Veriler (Her sütundaki boş değer sayısı):\")\n",
    "print(df.isnull().sum())"
   ]
  },
  {
   "cell_type": "code",
   "execution_count": 27,
   "id": "4603aa94-11c8-47d1-8d2a-29f2ae5f0746",
   "metadata": {},
   "outputs": [
    {
     "name": "stdout",
     "output_type": "stream",
     "text": [
      "Veri Türleri:\n",
      "TransactionID      int64\n",
      "Date              object\n",
      "Product           object\n",
      "Category          object\n",
      "Price              int64\n",
      "Quantity           int64\n",
      "TotalPrice       float64\n",
      "Customer          object\n",
      "Region            object\n",
      "dtype: object\n"
     ]
    }
   ],
   "source": [
    "print(\"Veri Türleri:\")\n",
    "print(df.dtypes)"
   ]
  },
  {
   "cell_type": "code",
   "execution_count": 28,
   "id": "756acd64-74c6-4681-bcdd-066b98585604",
   "metadata": {},
   "outputs": [],
   "source": [
    "df['TotalPrice'] = df['Price'] * df['Quantity']"
   ]
  },
  {
   "cell_type": "code",
   "execution_count": 30,
   "id": "c8abe4af-1029-43b9-9b52-0d5d990a00f3",
   "metadata": {},
   "outputs": [
    {
     "name": "stdout",
     "output_type": "stream",
     "text": [
      "0     1200\n",
      "1     1600\n",
      "2      500\n",
      "3      300\n",
      "4      600\n",
      "5      250\n",
      "6      320\n",
      "7      300\n",
      "8     1100\n",
      "9     1500\n",
      "10     600\n",
      "11     360\n",
      "12     560\n",
      "13     275\n",
      "14     340\n",
      "15     280\n",
      "16    1250\n",
      "17    1640\n",
      "18     510\n",
      "19     330\n",
      "Name: TotalPrice, dtype: int64\n"
     ]
    }
   ],
   "source": [
    "print(df['TotalPrice'])"
   ]
  },
  {
   "cell_type": "code",
   "execution_count": 33,
   "id": "dc4f6b12-b419-49b0-8627-5b11e44bafa6",
   "metadata": {},
   "outputs": [],
   "source": [
    "df['Date'] = df['Date'].ffill() "
   ]
  },
  {
   "cell_type": "code",
   "execution_count": 34,
   "id": "2228f769-785e-49e0-8979-f8a64c467cb3",
   "metadata": {},
   "outputs": [],
   "source": [
    "df['Date'] = df['Date'].bfill() "
   ]
  },
  {
   "cell_type": "code",
   "execution_count": 37,
   "id": "62cb990a-9235-4e7b-bbb9-c2ea52a72d00",
   "metadata": {},
   "outputs": [],
   "source": [
    "most_frequent_customer = df['Customer'].mode()[0]\n",
    "df['Customer'] = df['Customer'].fillna(most_frequent_customer)"
   ]
  },
  {
   "cell_type": "code",
   "execution_count": 38,
   "id": "fae0d1c3-2b00-40ea-9d63-4649005a35ac",
   "metadata": {},
   "outputs": [
    {
     "name": "stdout",
     "output_type": "stream",
     "text": [
      "TransactionID    0\n",
      "Date             0\n",
      "Product          0\n",
      "Category         0\n",
      "Price            0\n",
      "Quantity         0\n",
      "TotalPrice       0\n",
      "Customer         0\n",
      "Region           0\n",
      "dtype: int64\n"
     ]
    }
   ],
   "source": [
    "print(df.isnull().sum())"
   ]
  },
  {
   "cell_type": "code",
   "execution_count": 39,
   "id": "0d57c431-69ab-4faa-b578-06db4a8433b8",
   "metadata": {},
   "outputs": [],
   "source": [
    "df['Date'] = pd.to_datetime(df['Date'], errors='coerce')"
   ]
  },
  {
   "cell_type": "code",
   "execution_count": 41,
   "id": "bf8ded39-c2e8-4222-a65a-4d09a3c0a9a8",
   "metadata": {},
   "outputs": [
    {
     "name": "stdout",
     "output_type": "stream",
     "text": [
      "0    2024-02-10\n",
      "1    2024-02-11\n",
      "2    2024-02-12\n",
      "3    2024-02-13\n",
      "4    2024-02-13\n",
      "5    2024-02-15\n",
      "6    2024-02-16\n",
      "7    2024-02-17\n",
      "8    2024-02-18\n",
      "9    2024-02-19\n",
      "10   2024-02-19\n",
      "11   2024-02-21\n",
      "12   2024-02-22\n",
      "13   2024-02-23\n",
      "14   2024-02-24\n",
      "15   2024-02-24\n",
      "16   2024-02-26\n",
      "17   2024-02-27\n",
      "18   2024-02-27\n",
      "19   2024-02-29\n",
      "Name: Date, dtype: datetime64[ns]\n"
     ]
    }
   ],
   "source": [
    "print(df['Date'])"
   ]
  },
  {
   "cell_type": "code",
   "execution_count": 56,
   "id": "fcadc988-d8eb-4014-9b1f-5d0d5f7946d9",
   "metadata": {},
   "outputs": [
    {
     "name": "stdout",
     "output_type": "stream",
     "text": [
      "Kategori bazında toplam satışlar\n",
      "Category\n",
      "Accessories     2755\n",
      "Electronics    11060\n",
      "Name: TotalPrice, dtype: int64\n",
      "\n",
      "Bölgelere göre toplam satışlar\n",
      "Region\n",
      "East     1570\n",
      "North    4710\n",
      "South    5265\n",
      "West     2270\n",
      "Name: TotalPrice, dtype: int64\n",
      "\n",
      "En fazla satış yapan müşteri ve toplam satış miktarı\n",
      "Alice\n",
      "3430\n",
      "\n",
      "Fiyatı 500'den fazla olan ürünler\n",
      "    TransactionID       Date     Product     Category  Price  Quantity  \\\n",
      "0            1001 2024-02-10      Laptop  Electronics   1200         1   \n",
      "1            1002 2024-02-11  Smartphone  Electronics    800         2   \n",
      "8            1009 2024-02-18      Laptop  Electronics   1100         1   \n",
      "9            1010 2024-02-19  Smartphone  Electronics    750         2   \n",
      "10           1011 2024-02-19      Tablet  Electronics    600         1   \n",
      "16           1017 2024-02-26      Laptop  Electronics   1250         1   \n",
      "17           1018 2024-02-27  Smartphone  Electronics    820         2   \n",
      "18           1019 2024-02-27      Tablet  Electronics    510         1   \n",
      "\n",
      "    TotalPrice Customer Region  \n",
      "0         1200    Alice  North  \n",
      "1         1600      Bob  South  \n",
      "8         1100      Ivy  North  \n",
      "9         1500     John  South  \n",
      "10         600     Kate   West  \n",
      "16        1250    Quinn  North  \n",
      "17        1640    Alice  South  \n",
      "18         510    Steve   West  \n",
      "\n",
      "Elektronik ürünlerin toplam satışı\n",
      "11060\n"
     ]
    }
   ],
   "source": [
    "category_sales = df.groupby('Category')['TotalPrice'].sum()\n",
    "print(\"Kategori bazında toplam satışlar\")\n",
    "print(category_sales)\n",
    "\n",
    "region_sales = df.groupby('Region')['TotalPrice'].sum()\n",
    "print(\"\\nBölgelere göre toplam satışlar\")\n",
    "print(region_sales)\n",
    "\n",
    "top_customer = df.groupby('Customer')['TotalPrice'].sum().idxmax()\n",
    "top_customer_sales = df.groupby('Customer')['TotalPrice'].sum().max()\n",
    "print(\"\\nEn fazla satış yapan müşteri ve toplam satış miktarı\")\n",
    "print(top_customer)\n",
    "print(top_customer_sales)\n",
    "\n",
    "expensive_products = df[df['Price'] > 500]\n",
    "print(\"\\nFiyatı 500'den fazla olan ürünler\")\n",
    "print(expensive_products)\n",
    "\n",
    "electronics_sales = df[df['Category'] == 'Electronics']['TotalPrice'].sum()\n",
    "print(\"\\nElektronik ürünlerin toplam satışı\")\n",
    "print(electronics_sales)"
   ]
  },
  {
   "cell_type": "code",
   "execution_count": 61,
   "id": "32f3cf26-52fc-427c-a907-1fd974eaa9b2",
   "metadata": {},
   "outputs": [
    {
     "data": {
      "text/plain": [
       "('C:\\\\Users\\\\Selin\\\\Desktop\\\\TurkcellGYK\\\\Homework4\\\\sales_data.json',\n",
       " 'C:\\\\Users\\\\Selin\\\\Desktop\\\\TurkcellGYK\\\\Homework4\\\\sales_data.xlsx')"
      ]
     },
     "execution_count": 61,
     "metadata": {},
     "output_type": "execute_result"
    }
   ],
   "source": [
    "# 1. Veriyi JSON formatına çevirip kaydetme\n",
    "json_file_path = r\"C:\\Users\\Selin\\Desktop\\TurkcellGYK\\Homework4\\sales_data.json\"\n",
    "df.to_json(json_file_path, orient=\"records\", indent=4)\n",
    "\n",
    "# 2. Veriyi Excel formatına çevirip kaydetme\n",
    "excel_file_path = r\"C:\\Users\\Selin\\Desktop\\TurkcellGYK\\Homework4\\sales_data.xlsx\"\n",
    "df.to_excel(excel_file_path, index=False)\n",
    "\n",
    "# Dosyaları kullanıcıya sunma\n",
    "json_file_path, excel_file_path\n"
   ]
  },
  {
   "cell_type": "code",
   "execution_count": null,
   "id": "b24c44b9-736b-4520-8875-b4468d60f748",
   "metadata": {},
   "outputs": [],
   "source": []
  }
 ],
 "metadata": {
  "kernelspec": {
   "display_name": "Python 3 (ipykernel)",
   "language": "python",
   "name": "python3"
  },
  "language_info": {
   "codemirror_mode": {
    "name": "ipython",
    "version": 3
   },
   "file_extension": ".py",
   "mimetype": "text/x-python",
   "name": "python",
   "nbconvert_exporter": "python",
   "pygments_lexer": "ipython3",
   "version": "3.11.5"
  }
 },
 "nbformat": 4,
 "nbformat_minor": 5
}

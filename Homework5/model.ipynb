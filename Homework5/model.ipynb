{
 "cells": [
  {
   "cell_type": "code",
   "execution_count": 53,
   "metadata": {},
   "outputs": [],
   "source": [
    "import pandas as pd \n",
    "import numpy as np \n",
    "import matplotlib.pyplot as plt \n",
    "import seaborn as sns \n",
    "\n",
    "\n",
    "from sklearn.model_selection import train_test_split\n",
    "from sklearn.linear_model import LinearRegression\n",
    "from sklearn.tree import DecisionTreeRegressor\n",
    "from sklearn.ensemble import RandomForestRegressor\n",
    "from sklearn.preprocessing import StandardScaler\n",
    "\n",
    "\n",
    "from sklearn.metrics import mean_squared_error, mean_absolute_error, r2_score"
   ]
  },
  {
   "cell_type": "code",
   "execution_count": 54,
   "metadata": {},
   "outputs": [
    {
     "name": "stdout",
     "output_type": "stream",
     "text": [
      "<class 'pandas.core.frame.DataFrame'>\n",
      "RangeIndex: 1338 entries, 0 to 1337\n",
      "Data columns (total 7 columns):\n",
      " #   Column    Non-Null Count  Dtype  \n",
      "---  ------    --------------  -----  \n",
      " 0   age       1297 non-null   float64\n",
      " 1   sex       1338 non-null   object \n",
      " 2   bmi       1311 non-null   float64\n",
      " 3   children  1306 non-null   float64\n",
      " 4   smoker    1338 non-null   object \n",
      " 5   region    1338 non-null   object \n",
      " 6   charges   1338 non-null   float64\n",
      "dtypes: float64(4), object(3)\n",
      "memory usage: 73.3+ KB\n",
      "None\n",
      "age         41\n",
      "sex          0\n",
      "bmi         27\n",
      "children    32\n",
      "smoker       0\n",
      "region       0\n",
      "charges      0\n",
      "dtype: int64\n",
      "age         float64\n",
      "sex          object\n",
      "bmi         float64\n",
      "children    float64\n",
      "smoker       object\n",
      "region       object\n",
      "charges     float64\n",
      "dtype: object\n"
     ]
    }
   ],
   "source": [
    "df = pd.read_csv(\"insurance.csv\")\n",
    "print(df.info())\n",
    "print(df.isnull().sum())\n",
    "print(df.dtypes)"
   ]
  },
  {
   "cell_type": "code",
   "execution_count": 55,
   "metadata": {},
   "outputs": [],
   "source": [
    "missing_cols = df.columns[df.isnull().any()]\n",
    "\n",
    "for col in missing_cols:\n",
    "    if df[col].dtype == \"object\":\n",
    "        df[col] = df[col].fillna(df[col].mode()[0])\n",
    "    else:\n",
    "        df[col] = df[col].fillna(df[col].mean())\n"
   ]
  },
  {
   "cell_type": "code",
   "execution_count": 56,
   "metadata": {},
   "outputs": [
    {
     "data": {
      "text/plain": [
       "age         0\n",
       "sex         0\n",
       "bmi         0\n",
       "children    0\n",
       "smoker      0\n",
       "region      0\n",
       "charges     0\n",
       "dtype: int64"
      ]
     },
     "execution_count": 56,
     "metadata": {},
     "output_type": "execute_result"
    }
   ],
   "source": [
    "df.isnull().sum()"
   ]
  },
  {
   "cell_type": "code",
   "execution_count": 57,
   "metadata": {},
   "outputs": [
    {
     "name": "stdout",
     "output_type": "stream",
     "text": [
      "Index(['sex', 'smoker', 'region'], dtype='object')\n"
     ]
    }
   ],
   "source": [
    "categorical_columns = df.select_dtypes(include=[object]).columns\n",
    "numerical_columns = df.select_dtypes(include=[np.number]).columns\n",
    "print(categorical_columns)"
   ]
  },
  {
   "cell_type": "code",
   "execution_count": 58,
   "metadata": {},
   "outputs": [
    {
     "name": "stdout",
     "output_type": "stream",
     "text": [
      "age                 float64\n",
      "bmi                 float64\n",
      "children            float64\n",
      "charges             float64\n",
      "sex_male               bool\n",
      "smoker_yes             bool\n",
      "region_northwest       bool\n",
      "region_southeast       bool\n",
      "region_southwest       bool\n",
      "dtype: object\n"
     ]
    }
   ],
   "source": [
    "df = pd.get_dummies(df, columns= categorical_columns, drop_first=True)\n",
    "print(df.dtypes)"
   ]
  },
  {
   "cell_type": "code",
   "execution_count": 59,
   "metadata": {},
   "outputs": [],
   "source": [
    "df[\"bmi_smoker\"] = df[\"bmi\"] * df[\"smoker_yes\"]\n",
    "df[\"age_smoker\"] = df[\"age\"] * df[\"smoker_yes\"]"
   ]
  },
  {
   "cell_type": "code",
   "execution_count": 60,
   "metadata": {},
   "outputs": [],
   "source": [
    "x = df.drop(\"charges\", axis=1)\n",
    "y = df[\"charges\"]"
   ]
  },
  {
   "cell_type": "code",
   "execution_count": 61,
   "metadata": {},
   "outputs": [],
   "source": [
    "x_train, x_test, y_train, y_test = train_test_split(x, y, test_size=0.3, random_state=24)\n",
    "\n",
    "scaler = StandardScaler()\n",
    "x_train = scaler.fit_transform(x_train)\n",
    "x_test = scaler.transform(x_test)\n"
   ]
  },
  {
   "cell_type": "code",
   "execution_count": 62,
   "metadata": {},
   "outputs": [
    {
     "name": "stdout",
     "output_type": "stream",
     "text": [
      "Linear Regression\n",
      "MSE:  24104532.02034749\n",
      "MAE:  3134.263868615632\n",
      "R2 Score:  0.8417972474498909\n"
     ]
    }
   ],
   "source": [
    "#Linear Regression\n",
    "\n",
    "lr= LinearRegression()\n",
    "lr.fit(x_train, y_train)\n",
    "y_pred_lr = lr.predict(x_test)\n",
    "\n",
    "print(\"Linear Regression\")\n",
    "print(\"MSE: \", mean_squared_error(y_test, y_pred_lr))\n",
    "print(\"MAE: \", mean_absolute_error(y_test, y_pred_lr))\n",
    "print(\"R2 Score: \", r2_score(y_test, y_pred_lr))\n"
   ]
  },
  {
   "cell_type": "code",
   "execution_count": 63,
   "metadata": {},
   "outputs": [
    {
     "name": "stdout",
     "output_type": "stream",
     "text": [
      "Decision Tree\n",
      "MSE:  44797180.037449956\n",
      "MAE:  3357.536753917911\n",
      "R2 Score:  0.7059873561359763\n"
     ]
    }
   ],
   "source": [
    "dt = DecisionTreeRegressor()\n",
    "dt.fit(x_train, y_train)\n",
    "y_pred_dt = dt.predict(x_test)\n",
    "\n",
    "\n",
    "print(\"Decision Tree\")\n",
    "print(\"MSE: \", mean_squared_error(y_test, y_pred_dt))\n",
    "print(\"MAE: \", mean_absolute_error(y_test, y_pred_dt))\n",
    "print(\"R2 Score: \", r2_score(y_test, y_pred_dt))"
   ]
  },
  {
   "cell_type": "code",
   "execution_count": 64,
   "metadata": {},
   "outputs": [
    {
     "name": "stdout",
     "output_type": "stream",
     "text": [
      "Random Forest\n",
      "MSE:  23781567.660550363\n",
      "MAE:  2923.95860722977\n",
      "R2 Score:  0.8439169256354022\n"
     ]
    }
   ],
   "source": [
    "rf = RandomForestRegressor(random_state=24)\n",
    "rf.fit(x_train, y_train)\n",
    "y_pred_rf = rf.predict(x_test)\n",
    "\n",
    "print(\"Random Forest\")\n",
    "print(\"MSE: \", mean_squared_error(y_test, y_pred_rf))\n",
    "print(\"MAE: \", mean_absolute_error(y_test, y_pred_rf))\n",
    "print(\"R2 Score: \", r2_score(y_test, y_pred_rf))"
   ]
  },
  {
   "cell_type": "code",
   "execution_count": 65,
   "metadata": {},
   "outputs": [
    {
     "name": "stdout",
     "output_type": "stream",
     "text": [
      "               Model           MSE          MAE  R2 Score\n",
      "0  Linear Regression  2.410453e+07  3134.263869  0.841797\n",
      "1      Decision Tree  4.479718e+07  3357.536754  0.705987\n",
      "2      Random Forest  2.378157e+07  2923.958607  0.843917\n"
     ]
    }
   ],
   "source": [
    "results = {\n",
    "    \"Model\": [\"Linear Regression\", \"Decision Tree\", \"Random Forest\"],\n",
    "    \"MSE\": [\n",
    "        mean_squared_error(y_test, y_pred_lr),\n",
    "        mean_squared_error(y_test, y_pred_dt),\n",
    "        mean_squared_error(y_test, y_pred_rf),\n",
    "    ],\n",
    "    \"MAE\": [\n",
    "        mean_absolute_error(y_test, y_pred_lr),\n",
    "        mean_absolute_error(y_test, y_pred_dt),\n",
    "        mean_absolute_error(y_test, y_pred_rf),\n",
    "    ],\n",
    "    \"R2 Score\": [\n",
    "        r2_score(y_test, y_pred_lr),\n",
    "        r2_score(y_test, y_pred_dt),\n",
    "        r2_score(y_test, y_pred_rf),\n",
    "    ],\n",
    "}\n",
    "\n",
    "\n",
    "results_df = pd.DataFrame(results)\n",
    "print(results_df)\n"
   ]
  },
  {
   "cell_type": "code",
   "execution_count": 74,
   "metadata": {},
   "outputs": [
    {
     "data": {
      "image/png": "[encoded data removed]",
      "text/plain": [
       "<Figure size 1500x500 with 3 Axes>"
      ]
     },
     "metadata": {},
     "output_type": "display_data"
    }
   ],
   "source": [
    "# Grafik boyutu\n",
    "plt.figure(figsize=(15, 5))\n",
    "\n",
    "# MSE\n",
    "plt.subplot(1, 3, 1)\n",
    "plt.bar(results_df[\"Model\"], results_df[\"MSE\"], color='skyblue')\n",
    "plt.title(\"MSE Karşılaştırması\")\n",
    "plt.ylabel(\"MSE\")\n",
    "plt.xticks(rotation=15)\n",
    "\n",
    "# MAE\n",
    "plt.subplot(1, 3, 2)\n",
    "plt.bar(results_df[\"Model\"], results_df[\"MAE\"], color='salmon')\n",
    "plt.title(\"MAE Karşılaştırması\")\n",
    "plt.ylabel(\"MAE\")\n",
    "plt.xticks(rotation=15)\n",
    "\n",
    "# R2 Score\n",
    "plt.subplot(1, 3, 3)\n",
    "plt.bar(results_df[\"Model\"], results_df[\"R2 Score\"], color='lightgreen')\n",
    "plt.title(\"R2 Score Karşılaştırması\")\n",
    "plt.ylabel(\"R2 Score\")\n",
    "plt.xticks(rotation=15)\n",
    "\n",
    "plt.tight_layout()\n",
    "plt.show()\n"
   ]
  },
  {
   "cell_type": "code",
   "execution_count": null,
   "metadata": {},
   "outputs": [],
   "source": []
  }
 ],
 "metadata": {
  "kernelspec": {
   "display_name": ".venv",
   "language": "python",
   "name": "python3"
  },
  "language_info": {
   "codemirror_mode": {
    "name": "ipython",
    "version": 3
   },
   "file_extension": ".py",
   "mimetype": "text/x-python",
   "name": "python",
   "nbconvert_exporter": "python",
   "pygments_lexer": "ipython3",
   "version": "3.11.5"
  }
 },
 "nbformat": 4,
 "nbformat_minor": 2
}
